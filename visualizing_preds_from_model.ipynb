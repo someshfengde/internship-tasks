{
 "cells": [
  {
   "cell_type": "code",
   "execution_count": 1,
   "metadata": {},
   "outputs": [],
   "source": [
    "import pandas as pd \n",
    "import matplotlib.pyplot as plt \n",
    "import plotly.express as px "
   ]
  },
  {
   "cell_type": "code",
   "execution_count": 2,
   "metadata": {},
   "outputs": [],
   "source": [
    "from pycaret.classification import *"
   ]
  },
  {
   "cell_type": "code",
   "execution_count": 3,
   "metadata": {},
   "outputs": [
    {
     "name": "stdout",
     "output_type": "stream",
     "text": [
      "Transformation Pipeline and Model Successfully Loaded\n"
     ]
    }
   ],
   "source": [
    "model = load_model('dt')"
   ]
  },
  {
   "cell_type": "code",
   "execution_count": 4,
   "metadata": {},
   "outputs": [
    {
     "name": "stdout",
     "output_type": "stream",
     "text": [
      "\\N    5259\n",
      "Name: \\N, dtype: int64 5259\n"
     ]
    }
   ],
   "source": [
    "scan_1 = pd.read_csv(\"nap-scan.csv\")\n",
    "scan_2 = pd.read_csv(\"nap-scan-2.csv\")\n",
    "cols = [\"ApId\",\n",
    "\"NApMacAddress\",\n",
    "\"LastCheckinTime\",\n",
    "\"LastStatusId\",         \n",
    "\"SSID\",                 \n",
    "\"TSF\",                  \n",
    "\"Frequency\",            \n",
    "\"Rssi\",                  \n",
    "\"PrimaryChannel\",       \n",
    "\"SecondaryChannel\",     \n",
    "\"ChannelWidth\",         \n",
    "\"StaChannelWidth\",      \n",
    "\"FirstCenterFrequency\", \n",
    "\"SecondCenterFrequency\",\n",
    "\"Authentication\",       \n",
    "\"Security\"]\n",
    "scan_1.columns = cols\n",
    "# checking the column \n",
    "print(scan_2[r'\\N'].value_counts(), len(scan_2[r'\\N']))\n",
    "# seems like the \\N col is having only newline values dropping it \n",
    "scan_2 = scan_2.drop(r\"\\N\", axis = 1 ) \n",
    "scan_2.columns = cols\n",
    "total_scan = scan_1.append(scan_2, ignore_index=True)"
   ]
  },
  {
   "cell_type": "code",
   "execution_count": 5,
   "metadata": {},
   "outputs": [],
   "source": [
    "preds = model.predict(total_scan)"
   ]
  },
  {
   "cell_type": "code",
   "execution_count": 6,
   "metadata": {},
   "outputs": [
    {
     "data": {
      "text/plain": [
       "array([ 11,  10,   2, ...,  52, 127,   6])"
      ]
     },
     "execution_count": 6,
     "metadata": {},
     "output_type": "execute_result"
    }
   ],
   "source": [
    "\n",
    "preds"
   ]
  },
  {
   "cell_type": "code",
   "execution_count": 7,
   "metadata": {},
   "outputs": [],
   "source": [
    "from sklearn.metrics import accuracy_score"
   ]
  },
  {
   "cell_type": "code",
   "execution_count": 8,
   "metadata": {},
   "outputs": [
    {
     "data": {
      "text/plain": [
       "0.8919877478639368"
      ]
     },
     "execution_count": 8,
     "metadata": {},
     "output_type": "execute_result"
    }
   ],
   "source": [
    "accuracy_score(total_scan['Frequency'].to_numpy(), preds )"
   ]
  },
  {
   "cell_type": "code",
   "execution_count": 9,
   "metadata": {},
   "outputs": [],
   "source": [
    "total_scan['Preds'] = preds"
   ]
  },
  {
   "cell_type": "code",
   "execution_count": 10,
   "metadata": {},
   "outputs": [
    {
     "data": {
      "text/html": [
       "<div>\n",
       "<style scoped>\n",
       "    .dataframe tbody tr th:only-of-type {\n",
       "        vertical-align: middle;\n",
       "    }\n",
       "\n",
       "    .dataframe tbody tr th {\n",
       "        vertical-align: top;\n",
       "    }\n",
       "\n",
       "    .dataframe thead th {\n",
       "        text-align: right;\n",
       "    }\n",
       "</style>\n",
       "<table border=\"1\" class=\"dataframe\">\n",
       "  <thead>\n",
       "    <tr style=\"text-align: right;\">\n",
       "      <th></th>\n",
       "      <th>ApId</th>\n",
       "      <th>NApMacAddress</th>\n",
       "      <th>LastCheckinTime</th>\n",
       "      <th>LastStatusId</th>\n",
       "      <th>SSID</th>\n",
       "      <th>TSF</th>\n",
       "      <th>Frequency</th>\n",
       "      <th>Rssi</th>\n",
       "      <th>PrimaryChannel</th>\n",
       "      <th>SecondaryChannel</th>\n",
       "      <th>ChannelWidth</th>\n",
       "      <th>StaChannelWidth</th>\n",
       "      <th>FirstCenterFrequency</th>\n",
       "      <th>SecondCenterFrequency</th>\n",
       "      <th>Authentication</th>\n",
       "      <th>Security</th>\n",
       "      <th>Preds</th>\n",
       "    </tr>\n",
       "  </thead>\n",
       "  <tbody>\n",
       "    <tr>\n",
       "      <th>0</th>\n",
       "      <td>297</td>\n",
       "      <td>EA:48:B8:C2:6F:BC</td>\n",
       "      <td>2022-04-05 04:46:18</td>\n",
       "      <td>1275036</td>\n",
       "      <td>x20Free_Wi-Fi</td>\n",
       "      <td>3806851836</td>\n",
       "      <td>11</td>\n",
       "      <td>-59</td>\n",
       "      <td>11</td>\n",
       "      <td>0</td>\n",
       "      <td>NaN</td>\n",
       "      <td>20</td>\n",
       "      <td>NaN</td>\n",
       "      <td>NaN</td>\n",
       "      <td>NaN</td>\n",
       "      <td>NaN</td>\n",
       "      <td>11</td>\n",
       "    </tr>\n",
       "    <tr>\n",
       "      <th>1</th>\n",
       "      <td>320</td>\n",
       "      <td>04:95:E6:9E:80:78</td>\n",
       "      <td>2022-04-07 10:12:19</td>\n",
       "      <td>1298899</td>\n",
       "      <td>L.S.C</td>\n",
       "      <td>43136848531</td>\n",
       "      <td>10</td>\n",
       "      <td>-72</td>\n",
       "      <td>10</td>\n",
       "      <td>0</td>\n",
       "      <td>NaN</td>\n",
       "      <td>20</td>\n",
       "      <td>NaN</td>\n",
       "      <td>NaN</td>\n",
       "      <td>PSK</td>\n",
       "      <td>CCMP</td>\n",
       "      <td>10</td>\n",
       "    </tr>\n",
       "    <tr>\n",
       "      <th>2</th>\n",
       "      <td>320</td>\n",
       "      <td>04:95:E6:A6:50:90</td>\n",
       "      <td>2022-04-07 10:12:19</td>\n",
       "      <td>1298899</td>\n",
       "      <td>Singla</td>\n",
       "      <td>45709517200</td>\n",
       "      <td>2</td>\n",
       "      <td>-83</td>\n",
       "      <td>2</td>\n",
       "      <td>0</td>\n",
       "      <td>NaN</td>\n",
       "      <td>any</td>\n",
       "      <td>NaN</td>\n",
       "      <td>NaN</td>\n",
       "      <td>PSK</td>\n",
       "      <td>CCMP</td>\n",
       "      <td>2</td>\n",
       "    </tr>\n",
       "    <tr>\n",
       "      <th>3</th>\n",
       "      <td>320</td>\n",
       "      <td>32:84:2F:EB:A5:40</td>\n",
       "      <td>2022-04-07 10:12:19</td>\n",
       "      <td>1298899</td>\n",
       "      <td>Redmi 9A</td>\n",
       "      <td>1276727306001</td>\n",
       "      <td>11</td>\n",
       "      <td>-85</td>\n",
       "      <td>11</td>\n",
       "      <td>0</td>\n",
       "      <td>0.0</td>\n",
       "      <td>20</td>\n",
       "      <td>0.0</td>\n",
       "      <td>0.0</td>\n",
       "      <td>PSK</td>\n",
       "      <td>CCMP</td>\n",
       "      <td>11</td>\n",
       "    </tr>\n",
       "    <tr>\n",
       "      <th>4</th>\n",
       "      <td>320</td>\n",
       "      <td>34:CE:00:23:5D:00</td>\n",
       "      <td>2022-04-07 10:12:19</td>\n",
       "      <td>1298899</td>\n",
       "      <td>Xiaomi_5CFF</td>\n",
       "      <td>12711629212</td>\n",
       "      <td>1</td>\n",
       "      <td>-84</td>\n",
       "      <td>1</td>\n",
       "      <td>0</td>\n",
       "      <td>NaN</td>\n",
       "      <td>20</td>\n",
       "      <td>NaN</td>\n",
       "      <td>NaN</td>\n",
       "      <td>PSK</td>\n",
       "      <td>TKIP CCMP</td>\n",
       "      <td>1</td>\n",
       "    </tr>\n",
       "    <tr>\n",
       "      <th>...</th>\n",
       "      <td>...</td>\n",
       "      <td>...</td>\n",
       "      <td>...</td>\n",
       "      <td>...</td>\n",
       "      <td>...</td>\n",
       "      <td>...</td>\n",
       "      <td>...</td>\n",
       "      <td>...</td>\n",
       "      <td>...</td>\n",
       "      <td>...</td>\n",
       "      <td>...</td>\n",
       "      <td>...</td>\n",
       "      <td>...</td>\n",
       "      <td>...</td>\n",
       "      <td>...</td>\n",
       "      <td>...</td>\n",
       "      <td>...</td>\n",
       "    </tr>\n",
       "    <tr>\n",
       "      <th>6198</th>\n",
       "      <td>2187</td>\n",
       "      <td>72:6D:EC:0A:4C:23</td>\n",
       "      <td>2022-04-11 11:39:33</td>\n",
       "      <td>15711825</td>\n",
       "      <td>NaN</td>\n",
       "      <td>369069911408</td>\n",
       "      <td>153</td>\n",
       "      <td>-55</td>\n",
       "      <td>127</td>\n",
       "      <td>0</td>\n",
       "      <td>0.0</td>\n",
       "      <td>20</td>\n",
       "      <td>153.0</td>\n",
       "      <td>0.0</td>\n",
       "      <td>PSK</td>\n",
       "      <td>CCMP TKIP</td>\n",
       "      <td>127</td>\n",
       "    </tr>\n",
       "    <tr>\n",
       "      <th>6199</th>\n",
       "      <td>2187</td>\n",
       "      <td>72:6D:EC:0A:83:33</td>\n",
       "      <td>2022-04-11 11:39:33</td>\n",
       "      <td>15711825</td>\n",
       "      <td>INDIO-cast-failover</td>\n",
       "      <td>525933864222</td>\n",
       "      <td>149</td>\n",
       "      <td>-51</td>\n",
       "      <td>127</td>\n",
       "      <td>0</td>\n",
       "      <td>1.0</td>\n",
       "      <td>any</td>\n",
       "      <td>155.0</td>\n",
       "      <td>0.0</td>\n",
       "      <td>PSK</td>\n",
       "      <td>CCMP TKIP</td>\n",
       "      <td>127</td>\n",
       "    </tr>\n",
       "    <tr>\n",
       "      <th>6200</th>\n",
       "      <td>2187</td>\n",
       "      <td>72:6D:EC:0A:8A:17</td>\n",
       "      <td>2022-04-11 11:39:33</td>\n",
       "      <td>15711825</td>\n",
       "      <td>INDIO-cast-failover</td>\n",
       "      <td>5466269661876</td>\n",
       "      <td>52</td>\n",
       "      <td>-49</td>\n",
       "      <td>52</td>\n",
       "      <td>0</td>\n",
       "      <td>1.0</td>\n",
       "      <td>any</td>\n",
       "      <td>58.0</td>\n",
       "      <td>0.0</td>\n",
       "      <td>PSK</td>\n",
       "      <td>CCMP TKIP</td>\n",
       "      <td>52</td>\n",
       "    </tr>\n",
       "    <tr>\n",
       "      <th>6201</th>\n",
       "      <td>2187</td>\n",
       "      <td>76:6D:EC:0A:4C:23</td>\n",
       "      <td>2022-04-11 11:39:33</td>\n",
       "      <td>15711825</td>\n",
       "      <td>NaN</td>\n",
       "      <td>369069945541</td>\n",
       "      <td>153</td>\n",
       "      <td>-55</td>\n",
       "      <td>127</td>\n",
       "      <td>0</td>\n",
       "      <td>0.0</td>\n",
       "      <td>20</td>\n",
       "      <td>153.0</td>\n",
       "      <td>0.0</td>\n",
       "      <td>PSK</td>\n",
       "      <td>CCMP TKIP</td>\n",
       "      <td>127</td>\n",
       "    </tr>\n",
       "    <tr>\n",
       "      <th>6202</th>\n",
       "      <td>2187</td>\n",
       "      <td>E8:6F:38:29:FD:E9</td>\n",
       "      <td>2022-04-11 11:39:33</td>\n",
       "      <td>15711825</td>\n",
       "      <td>HP-Print-E9-LaserJet Pro MFP</td>\n",
       "      <td>605006027586</td>\n",
       "      <td>6</td>\n",
       "      <td>-54</td>\n",
       "      <td>6</td>\n",
       "      <td>0</td>\n",
       "      <td>NaN</td>\n",
       "      <td>20</td>\n",
       "      <td>NaN</td>\n",
       "      <td>NaN</td>\n",
       "      <td>NaN</td>\n",
       "      <td>NaN</td>\n",
       "      <td>6</td>\n",
       "    </tr>\n",
       "  </tbody>\n",
       "</table>\n",
       "<p>6203 rows × 17 columns</p>\n",
       "</div>"
      ],
      "text/plain": [
       "      ApId      NApMacAddress      LastCheckinTime  LastStatusId  \\\n",
       "0      297  EA:48:B8:C2:6F:BC  2022-04-05 04:46:18       1275036   \n",
       "1      320  04:95:E6:9E:80:78  2022-04-07 10:12:19       1298899   \n",
       "2      320  04:95:E6:A6:50:90  2022-04-07 10:12:19       1298899   \n",
       "3      320  32:84:2F:EB:A5:40  2022-04-07 10:12:19       1298899   \n",
       "4      320  34:CE:00:23:5D:00  2022-04-07 10:12:19       1298899   \n",
       "...    ...                ...                  ...           ...   \n",
       "6198  2187  72:6D:EC:0A:4C:23  2022-04-11 11:39:33      15711825   \n",
       "6199  2187  72:6D:EC:0A:83:33  2022-04-11 11:39:33      15711825   \n",
       "6200  2187  72:6D:EC:0A:8A:17  2022-04-11 11:39:33      15711825   \n",
       "6201  2187  76:6D:EC:0A:4C:23  2022-04-11 11:39:33      15711825   \n",
       "6202  2187  E8:6F:38:29:FD:E9  2022-04-11 11:39:33      15711825   \n",
       "\n",
       "                              SSID            TSF  Frequency  Rssi  \\\n",
       "0                    x20Free_Wi-Fi     3806851836         11   -59   \n",
       "1                            L.S.C    43136848531         10   -72   \n",
       "2                           Singla    45709517200          2   -83   \n",
       "3                         Redmi 9A  1276727306001         11   -85   \n",
       "4                      Xiaomi_5CFF    12711629212          1   -84   \n",
       "...                            ...            ...        ...   ...   \n",
       "6198                           NaN   369069911408        153   -55   \n",
       "6199           INDIO-cast-failover   525933864222        149   -51   \n",
       "6200           INDIO-cast-failover  5466269661876         52   -49   \n",
       "6201                           NaN   369069945541        153   -55   \n",
       "6202  HP-Print-E9-LaserJet Pro MFP   605006027586          6   -54   \n",
       "\n",
       "      PrimaryChannel  SecondaryChannel  ChannelWidth StaChannelWidth  \\\n",
       "0                 11                 0           NaN              20   \n",
       "1                 10                 0           NaN              20   \n",
       "2                  2                 0           NaN             any   \n",
       "3                 11                 0           0.0              20   \n",
       "4                  1                 0           NaN              20   \n",
       "...              ...               ...           ...             ...   \n",
       "6198             127                 0           0.0              20   \n",
       "6199             127                 0           1.0             any   \n",
       "6200              52                 0           1.0             any   \n",
       "6201             127                 0           0.0              20   \n",
       "6202               6                 0           NaN              20   \n",
       "\n",
       "      FirstCenterFrequency  SecondCenterFrequency Authentication   Security  \\\n",
       "0                      NaN                    NaN            NaN        NaN   \n",
       "1                      NaN                    NaN            PSK       CCMP   \n",
       "2                      NaN                    NaN            PSK       CCMP   \n",
       "3                      0.0                    0.0            PSK       CCMP   \n",
       "4                      NaN                    NaN            PSK  TKIP CCMP   \n",
       "...                    ...                    ...            ...        ...   \n",
       "6198                 153.0                    0.0            PSK  CCMP TKIP   \n",
       "6199                 155.0                    0.0            PSK  CCMP TKIP   \n",
       "6200                  58.0                    0.0            PSK  CCMP TKIP   \n",
       "6201                 153.0                    0.0            PSK  CCMP TKIP   \n",
       "6202                   NaN                    NaN            NaN        NaN   \n",
       "\n",
       "      Preds  \n",
       "0        11  \n",
       "1        10  \n",
       "2         2  \n",
       "3        11  \n",
       "4         1  \n",
       "...     ...  \n",
       "6198    127  \n",
       "6199    127  \n",
       "6200     52  \n",
       "6201    127  \n",
       "6202      6  \n",
       "\n",
       "[6203 rows x 17 columns]"
      ]
     },
     "execution_count": 10,
     "metadata": {},
     "output_type": "execute_result"
    }
   ],
   "source": [
    "total_scan"
   ]
  },
  {
   "cell_type": "code",
   "execution_count": 12,
   "metadata": {},
   "outputs": [
    {
     "name": "stderr",
     "output_type": "stream",
     "text": [
      "findfont: Font family ['sans-serif'] not found. Falling back to DejaVu Sans.\n",
      "findfont: Generic family 'sans-serif' not found because none of the following families were found: Arial, Liberation Sans, Bitstream Vera Sans, sans-serif\n"
     ]
    },
    {
     "data": {
      "image/png": "[encoded data removed]",
      "text/plain": [
       "<Figure size 576x396 with 1 Axes>"
      ]
     },
     "metadata": {},
     "output_type": "display_data"
    }
   ],
   "source": [
    "from net_vis import * \n",
    "draw_graph(2187,total_scan, \"Preds\")"
   ]
  },
  {
   "cell_type": "code",
   "execution_count": 13,
   "metadata": {},
   "outputs": [
    {
     "data": {
      "image/png": "[encoded data removed]",
      "text/plain": [
       "<Figure size 576x396 with 1 Axes>"
      ]
     },
     "metadata": {},
     "output_type": "display_data"
    }
   ],
   "source": [
    "draw_graph(2187,total_scan, )"
   ]
  },
  {
   "cell_type": "code",
   "execution_count": null,
   "metadata": {},
   "outputs": [],
   "source": []
  }
 ],
 "metadata": {
  "interpreter": {
   "hash": "8b8334dab9339717f727a1deaf837b322d7a41c20d15cc86be99a8e69ceec8ce"
  },
  "kernelspec": {
   "display_name": "Python 3.8.12 64-bit ('3.8.12')",
   "language": "python",
   "name": "python3"
  },
  "language_info": {
   "codemirror_mode": {
    "name": "ipython",
    "version": 3
   },
   "file_extension": ".py",
   "mimetype": "text/x-python",
   "name": "python",
   "nbconvert_exporter": "python",
   "pygments_lexer": "ipython3",
   "version": "3.8.12"
  },
  "orig_nbformat": 4
 },
 "nbformat": 4,
 "nbformat_minor": 2
}
